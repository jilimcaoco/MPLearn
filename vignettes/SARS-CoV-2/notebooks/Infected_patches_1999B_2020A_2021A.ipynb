{
 "cells": [
  {
   "cell_type": "code",
   "execution_count": null,
   "metadata": {},
   "outputs": [],
   "source": [
    "from MPLearn.embedding_notebook import *\n",
    "from MPLearn.view_cells import *\n",
    "import mysql.connector\n",
    "initialize_notebook()"
   ]
  },
  {
   "cell_type": "code",
   "execution_count": null,
   "metadata": {},
   "outputs": [],
   "source": [
    "experiment_path = '../S25'\n",
    "#too smooth\n",
    "embedding_tag = \"UMAP_viral_plate_scaled_neighbors=5_neg_sampling_rate=50_epochs=1000_a=1.5_b=.2_20201019\"\n",
    "embedding_tag = \"UMAP_viral_plate_scaled_neighbors=15_neg_sampling_rate=20_epochs=2000_20201019\"\n",
    "\n",
    "# too small of clusters\n",
    "embedding_tag = \"UMAP_viral_plate_scaled_neighbors=5_neg_sampling_rate=200_epochs=2000_b=.2_20201019\"\n",
    "\n",
    "embedding_tag = \"UMAP_viral_plate_scaled_umap_n_neighbors=300_20201019\"\n",
    "embedding_tag = \"UMAP_viral_plate_scaled_n_neighbors=30_20201019\"\n",
    "embedding_tag = \"UMAP_viral_plate_scaled_n_neighbors=15_20201019\"\n",
    "embedding_tag = \"UMAP_viral_plate_scaled_n_neighbors=5_20201019\"\n",
    "\n",
    "embedding_tag = \"UMAP_viral_plate_scaled_n_neighbors=5_negative_sample_rate=50_20201019\"\n",
    "embedding_tag = \"UMAP_viral_plate_scaled_n_neighbors=30_umap_negative_sample_rate=50_20201019\"\n",
    "embedding_tag = \"UMAP_viral_plate_scaled_n_neighbors=30_umap_negative_sample_rate=50_a=2_b=.2_20201019\"\n",
    "embedding_tag = \"UMAP_viral_plate_scaled_n_neighbors=30_umap_negative_sample_rate=50_a=2_b=.6_20201019\"\n",
    "embedding_tag = \"UMAP_viral_plate_scaled_n_neighbors=30_umap_negative_sample_rate=50_a=20_b=.6_20201019\"\n",
    "embedding_tag = \"UMAP_viral_plate_scaled_n_neighbors=30_umap_negative_sample_rate=50_a=50_b=.6_20201019\"\n",
    "embedding_tag = \"UMAP_viral_plate_scaled_n_neighbors=30_umap_negative_sample_rate=50_a=50_b=.2_20201019\"\n",
    "embedding_tag = \"UMAP_viral_no_zp0_plate_scaled_n_neighbors=30_umap_negative_sample_rate=50_a=50_b=.2_20201019\"\n",
    "\n",
    "\n",
    "meta_path = \"../S25/raw_data/viral_plate_scaled_MasterDataTable.parquet\"\n",
    "\n",
    "\n",
    "\n",
    "output_path = '../S25/product/figures/infected_patch_1999B_2020A_2021A_20201017'\n",
    "if not os.path.exists(output_path):\n",
    "    os.makedirs(output_path)"
   ]
  },
  {
   "cell_type": "code",
   "execution_count": null,
   "metadata": {},
   "outputs": [],
   "source": [
    "def load_embedding():\n",
    "    meta_columns=[\n",
    "        'plate_id',\n",
    "        'well_id',\n",
    "        'field_id',\n",
    "        'condition',\n",
    "        'row', 'column',\n",
    "        'drug_1',\n",
    "        'drug_1_concentration',\n",
    "        'drug_1_units',\n",
    "        'drug_2',\n",
    "        'drug_2_concentration',\n",
    "        'drug_2_units',\n",
    "        'ImageNumber',\n",
    "        'plate_id',\n",
    "        'ImageNumber',\n",
    "        'Number_Object_Number',\n",
    "        'AreaShape_Center_X',\n",
    "        'AreaShape_Center_Y']\n",
    "\n",
    "    embedding = load_single_embedding(\n",
    "        experiment_path=experiment_path,\n",
    "        embedding_tag=embedding_tag,\n",
    "        meta_path=meta_path,\n",
    "        meta_columns=meta_columns,\n",
    "        verbose=True)\n",
    "\n",
    "    return embedding\n",
    "\n",
    "viral_embedding = load_embedding()"
   ]
  },
  {
   "cell_type": "code",
   "execution_count": null,
   "metadata": {},
   "outputs": [],
   "source": [
    "%output size=300\n",
    "view_UMAP(viral_embedding[viral_embedding.UMAP_1 < 5][viral_embedding.UMAP_2 < 5])"
   ]
  },
  {
   "cell_type": "code",
   "execution_count": null,
   "metadata": {},
   "outputs": [],
   "source": [
    "%output size=400\n",
    "view_UMAP_clusters(viral_embedding[viral_embedding.UMAP_1 < 5][viral_embedding.UMAP_2 < 5])"
   ]
  },
  {
   "cell_type": "code",
   "execution_count": null,
   "metadata": {},
   "outputs": [],
   "source": [
    "print(\"Fixing meta data to locate images...\")\n",
    "viral_embedding['Plate_Name'] = 'SARS_' + viral_embedding.plate_id\n",
    "viral_embedding.loc[:, 'Image_Metadata_WellID'] = viral_embedding.well_id\n",
    "viral_embedding.loc[:, 'Image_Metadata_FieldID'] = viral_embedding.field_id\n",
    "viral_embedding.loc[viral_embedding.plate_id == '1999B', 'Image_Metadata_PlateID'] = \"20200427T024129\"\n",
    "viral_embedding.loc[viral_embedding.plate_id == '2020A', 'Image_Metadata_PlateID'] = \"20200508T124847\"\n",
    "viral_embedding.loc[viral_embedding.plate_id == '2021A', 'Image_Metadata_PlateID'] = \"20200512T002847\"\n",
    "viral_embedding['microscope_plate_id'] = viral_embedding.Image_Metadata_PlateID\n",
    "viral_embedding['ViralObj_Number_Object_Number'] = viral_embedding.Number_Object_Number\n",
    "viral_embedding['ViralObj_AreaShape_Center_X'] = viral_embedding.AreaShape_Center_X\n",
    "viral_embedding['ViralObj_AreaShape_Center_Y'] = viral_embedding.AreaShape_Center_Y\n",
    "\n",
    "\n",
    "image_config = {\n",
    "    \"database_connection_info\" : \"/home/ubuntu/.mysql/connectors.cnf\",\n",
    "    \"database_options_group\" : \"covid19cq1\",\n",
    "    \"S3_region\" : 'us-east-1',\n",
    "    \"S3_bucket\" : \"sextoncov19\",\n",
    "    \"S3_key_template\" : \"CQ1/{microscope_plate_id}_{plate_id}/Projection/W{Image_Metadata_WellID}F{Image_Metadata_FieldID}T0001Z000C{Dye_Number}.tif\",\n",
    "    \"key_object\" : \"ViralObj\",\n",
    "    \"dyes\" : [\"CMO\", \"Hoe\", \"Lipids\", \"Virus\"],\n",
    "    \"saturations\" : [0.20, 0.60, 0.15, 0.10],\n",
    "    \"color_maps\" : ['Blues', 'Greens', 'viridis', 'inferno'],\n",
    "    \"width\" : 400,\n",
    "    \"height\" : 400,\n",
    "    \"verbose\" : True\n",
    "}\n",
    "\n",
    "\n",
    "print(\"Collating instances...\")\n",
    "from MPLearn.view_cells import collate_cell_instances\n",
    "\n",
    "collate_cell_instances(\n",
    "    cell_ids = viral_embedding,\n",
    "    group_dimension = \"cluster_label\",\n",
    "    group_values = [1,4,2,3,5],\n",
    "    n_instances_per_group = 20,\n",
    "    output_fname = f\"{output_path}/cluster_instances_workbook_20_exampels.xlsx\",\n",
    "    image_config = image_config,\n",
    "    image_cell_height=1300,\n",
    "    image_cell_width=57,\n",
    "    verbose = True)"
   ]
  }
 ],
 "metadata": {
  "kernelspec": {
   "display_name": "Python 3",
   "language": "python",
   "name": "python3"
  },
  "language_info": {
   "codemirror_mode": {
    "name": "ipython",
    "version": 3
   },
   "file_extension": ".py",
   "mimetype": "text/x-python",
   "name": "python",
   "nbconvert_exporter": "python",
   "pygments_lexer": "ipython3",
   "version": "3.8.2"
  }
 },
 "nbformat": 4,
 "nbformat_minor": 4
}
