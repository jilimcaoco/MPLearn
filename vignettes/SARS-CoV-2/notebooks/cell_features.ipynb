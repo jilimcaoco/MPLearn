{
 "cells": [
  {
   "cell_type": "code",
   "execution_count": null,
   "metadata": {},
   "outputs": [],
   "source": [
    "#Imports\n",
    "import pyarrow.parquet\n",
    "import pyarrow as pa\n",
    "import joblib\n",
    "import pandas as pd\n",
    "import numpy as np\n",
    "from io import BytesIO\n",
    "from PIL import Image\n",
    "import base64\n",
    "from bokeh.plotting import figure, show, output_notebook\n",
    "from bokeh.models import HoverTool, PanTool, WheelZoomTool, ColumnDataSource, CategoricalColorMapper\n",
    "from bokeh.layouts import widgetbox, gridplot\n",
    "from bokeh.models.widgets import Div\n",
    "from bokeh.palettes import Spectral10\n",
    "from bokeh.models.callbacks import CustomJS\n",
    "\n",
    "import holoviews\n",
    "from holoviews.operation.datashader import datashade, rasterize, shade, dynspread\n",
    "from holoviews.plotting.util import process_cmap\n",
    "from holoviews.operation import decimate\n",
    "\n",
    "import datashader\n",
    "import colorcet as cc\n",
    "from colorcet import fire\n",
    "cmap = process_cmap('fire', provider='matplotlib')\n",
    "\n",
    "import warnings\n",
    "warnings.filterwarnings(\"ignore\", category=DeprecationWarning)\n",
    "\n",
    "output_notebook(hide_banner=True)\n",
    "holoviews.extension('bokeh', logo=False)\n",
    "\n",
    "from IPython.display import display, HTML\n",
    "\n",
    "# make full width\n",
    "from IPython.core.display import display, HTML\n",
    "display(HTML(\"<style>.container { width:100% !important; }</style>\"))"
   ]
  },
  {
   "cell_type": "code",
   "execution_count": null,
   "metadata": {},
   "outputs": [],
   "source": [
    "\n",
    "embedding = \n"
   ]
  }
 ],
 "metadata": {
  "kernelspec": {
   "display_name": "Python 3",
   "language": "python",
   "name": "python3"
  },
  "language_info": {
   "codemirror_mode": {
    "name": "ipython",
    "version": 3
   },
   "file_extension": ".py",
   "mimetype": "text/x-python",
   "name": "python",
   "nbconvert_exporter": "python",
   "pygments_lexer": "ipython3",
   "version": "3.8.1"
  }
 },
 "nbformat": 4,
 "nbformat_minor": 4
}
