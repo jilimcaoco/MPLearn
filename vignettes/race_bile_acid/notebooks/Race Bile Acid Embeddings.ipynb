{
 "cells": [
  {
   "cell_type": "code",
   "execution_count": null,
   "metadata": {},
   "outputs": [],
   "source": [
    "from MPLearn.embedding_notebook import *\n",
    "from MPLearn.view_cells import *\n",
    "import mysql.connector\n",
    "initialize_notebook()"
   ]
  },
  {
   "cell_type": "code",
   "execution_count": null,
   "metadata": {},
   "outputs": [],
   "source": [
    "experiment_path = \"..\"\n",
    "embedding_tag = \"UMAP_images_20201106\""
   ]
  },
  {
   "cell_type": "code",
   "execution_count": null,
   "metadata": {},
   "outputs": [],
   "source": [
    "def load_embedding():\n",
    "    meta_columns=[\n",
    "        \"Concentration\",\n",
    "        \"Race\",\n",
    "        \"ImageNumber\"]\n",
    "\n",
    "    embedding = load_single_embedding(\n",
    "        experiment_path=experiment_path,\n",
    "        embedding_tag=embedding_tag,\n",
    "        meta_path=f\"{experiment_path}/raw_data/race_bile_acid_images_MasterDataTable.parquet\",\n",
    "        meta_columns=meta_columns,\n",
    "        verbose=True)\n",
    "\n",
    "    return embedding\n",
    "\n",
    "embedding = load_embedding()"
   ]
  },
  {
   "cell_type": "code",
   "execution_count": null,
   "metadata": {},
   "outputs": [],
   "source": [
    "embedding"
   ]
  },
  {
   "cell_type": "code",
   "execution_count": null,
   "metadata": {},
   "outputs": [],
   "source": [
    "%output size=200\n",
    "view_UMAP(embedding[embedding.UMAP_1 < 13])"
   ]
  },
  {
   "cell_type": "code",
   "execution_count": null,
   "metadata": {},
   "outputs": [],
   "source": [
    "embedding[embedding.UMAP_1 > 13]"
   ]
  },
  {
   "cell_type": "code",
   "execution_count": null,
   "metadata": {},
   "outputs": [],
   "source": [
    "%output size=200\n",
    "view_UMAP_clusters(embedding[embedding.UMAP_1 < 13])"
   ]
  },
  {
   "cell_type": "code",
   "execution_count": null,
   "metadata": {},
   "outputs": [],
   "source": [
    "view_UMAP_select_condition(embedding[embedding.UMAP_1 < 13], \"Race\")"
   ]
  },
  {
   "cell_type": "code",
   "execution_count": null,
   "metadata": {},
   "outputs": [],
   "source": [
    "%output size=200\n",
    "view_UMAP(embedding[embedding.UMAP_1 < 13][embedding.Race == \"AA\"]) + view_UMAP(embedding[embedding.UMAP_1 < 13][embedding.Race == \"CAU\"])"
   ]
  },
  {
   "cell_type": "code",
   "execution_count": null,
   "metadata": {},
   "outputs": [],
   "source": []
  }
 ],
 "metadata": {
  "kernelspec": {
   "display_name": "Python 3",
   "language": "python",
   "name": "python3"
  },
  "language_info": {
   "codemirror_mode": {
    "name": "ipython",
    "version": 3
   },
   "file_extension": ".py",
   "mimetype": "text/x-python",
   "name": "python",
   "nbconvert_exporter": "python",
   "pygments_lexer": "ipython3",
   "version": "3.8.2"
  }
 },
 "nbformat": 4,
 "nbformat_minor": 4
}
