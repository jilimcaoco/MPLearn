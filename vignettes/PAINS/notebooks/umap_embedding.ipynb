{
 "cells": [
  {
   "cell_type": "code",
   "execution_count": null,
   "metadata": {},
   "outputs": [],
   "source": [
    "from MPLearn.embedding_notebook import *\n",
    "initialize_notebook()"
   ]
  },
  {
   "cell_type": "markdown",
   "metadata": {},
   "source": [
    "## Load Embedding\n",
    "Load the 20XX series plates embedded into the `top_hits_plate_scaled_200522a_umap2_2M_15_0.0` embedding\n",
    "\n",
    "```shell\n",
    "cd ${experiment_path} &&\n",
    "    embed_umap \\\n",
    "        --dataset ${dataset} \\\n",
    "        --tag ${tag} \\\n",
    "        --feature_columns raw_data/cell_feature_columns.tsv \\\n",
    "        --no_standardize_features \\\n",
    "        --umap_low_memory \\\n",
    "        --verbose\n",
    "````         "
   ]
  },
  {
   "cell_type": "code",
   "execution_count": null,
   "metadata": {},
   "outputs": [],
   "source": [
    "experiment_path = '../S25'\n",
    "embedding_tag = \"top_hits_plate_scaled_200522a_umap2_2M_15_0.0\""
   ]
  },
  {
   "cell_type": "code",
   "execution_count": null,
   "metadata": {},
   "outputs": [],
   "source": [
    "def load_embedding():\n",
    "    meta_columns=[\n",
    "        'Image_Metadata_PlateID',\n",
    "        'Image_Metadata_WellID',\n",
    "        'Image_Metadata_FieldID',\n",
    "        'ImageNumber',\n",
    "        'plate_id',\n",
    "        'Compound',\n",
    "        'dose_nM',\n",
    "        'Cells_Number_Object_Number']\n",
    "\n",
    "    embeddings = []\n",
    "\n",
    "    top_hit_plate_ids = [\n",
    "        '2006A', '2007A', '2008A', '2009A',\n",
    "        '2010A', '2010A',          '2012A',\n",
    "        '2013A', '2014A', '2015A', '2016A',\n",
    "        '2017A',          '2019A']\n",
    "    for plate_id in top_hit_plate_ids:\n",
    "        embedding = load_single_embedding(\n",
    "            experiment_path=experiment_path,\n",
    "            embedding_tag=f\"covid19cq1_SARS_{plate_id}_plate_scaled_into_{embedding_tag}\",\n",
    "            plate_id=f\"covid19cq1_SARS_{plate_id}_plate_scaled\",\n",
    "            cluster_embedding_tag=False,\n",
    "            meta_columns=meta_columns)\n",
    "        embeddings.append(embedding)\n",
    "\n",
    "    embedding = load_single_embedding(\n",
    "        experiment_path=\"../S25\",\n",
    "        embedding_tag=f\"covid19cq1_SARS_1999B_200523_umap2_into_top_hits_plate_scaled_200522a_15_0.0\",\n",
    "        plate_id=f\"lf_rem_plate_scaled_1999B_2020A\",\n",
    "        cluster_embedding_tag=False,\n",
    "        meta_columns=meta_columns)\n",
    "    embeddings.append(embedding)\n",
    "    embedding = pd.concat(embeddings)\n",
    "    return embedding\n",
    "\n",
    "embedding = load_embedding()"
   ]
  },
  {
   "cell_type": "code",
   "execution_count": null,
   "metadata": {},
   "outputs": [],
   "source": [
    "for plate_id in embedding.plate_id.unique():\n",
    "    print(f\"{plate_id} {embedding[embedding.plate_id == plate_id].shape[0]}\")"
   ]
  },
  {
   "cell_type": "code",
   "execution_count": null,
   "metadata": {},
   "outputs": [],
   "source": [
    "save_embedding_plot(\n",
    "    embedding=embedding,\n",
    "    output_fname=\"../S25/product/figures/fig3/fig3a_full_embedding.png\",\n",
    "    plot_width=1000,\n",
    "    plot_height=1000)"
   ]
  },
  {
   "cell_type": "code",
   "execution_count": null,
   "metadata": {},
   "outputs": [],
   "source": [
    "%%output size=400\n",
    "view_UMAP(embedding)"
   ]
  },
  {
   "cell_type": "code",
   "execution_count": null,
   "metadata": {},
   "outputs": [],
   "source": [
    "%output size=400\n",
    "embedding_plot = view_UMAP(embedding)\n",
    "path_layer, regions_of_interest = draw_regions_of_interest()\n",
    "embedding_plot * path_layer"
   ]
  },
  {
   "cell_type": "code",
   "execution_count": null,
   "metadata": {},
   "outputs": [],
   "source": [
    "regions_of_interest"
   ]
  },
  {
   "cell_type": "code",
   "execution_count": null,
   "metadata": {},
   "outputs": [],
   "source": [
    "save_regions_of_interest(\n",
    "    regions_of_interest=regions_of_interest,\n",
    "    output_path=(\n",
    "        f\"{experiment_path}/intermediate_data/\"\n",
    "        f\"{embedding_tag}/\"\n",
    "        f\"regions_of_interest.parquet\"))"
   ]
  },
  {
   "cell_type": "code",
   "execution_count": null,
   "metadata": {},
   "outputs": [],
   "source": [
    "loaded_regions_of_interest = pa.parquet.read_table(\n",
    "    \"/tmp/tmp_regions_of_interest.parquet\").to_pandas()"
   ]
  },
  {
   "cell_type": "code",
   "execution_count": null,
   "metadata": {},
   "outputs": [],
   "source": [
    "loaded_regions_of_interest"
   ]
  },
  {
   "cell_type": "code",
   "execution_count": null,
   "metadata": {},
   "outputs": [],
   "source": [
    "def load_regions_of_interest(\n",
    "        source=\"regions_of_interest.parquet\"):\n",
    "    regions_of_interest = pa.parquet.read_table(\n",
    "        source=source).to_pandas()\n",
    "    \n",
    "    xs = []\n",
    "    ys = []\n",
    "    for roi_index in regions_of_interest.roi_index.unique():\n",
    "        xs.append(regions_of_interest[regions_of_interest.roi_index == roi_index]['xs'].to_list())\n",
    "        ys.append(regions_of_interest[regions_of_interest.roi_index == roi_index]['yz'].to_list())\n",
    "    return holoviews.streams.FreehandDraw(\n",
    "        data = {'xs' : xs, 'ys' : ys})\n",
    "z=load_regions_of_interest(\"/tmp/tmp_regions_of_interest.parquet\")"
   ]
  },
  {
   "cell_type": "code",
   "execution_count": null,
   "metadata": {},
   "outputs": [],
   "source": [
    "z"
   ]
  },
  {
   "cell_type": "code",
   "execution_count": null,
   "metadata": {},
   "outputs": [],
   "source": [
    "regions_of_interest=load_regions_of_interest(source=(\n",
    "        f\"{experiment_path}/intermediate_data/\"\n",
    "        f\"{embedding_tag}/\"\n",
    "        f\"roi_paths.parquet\"))\n",
    "\n",
    "ROI_membership = get_ROI_membership(\n",
    "    regions_of_interest = regions_of_interest,\n",
    "    points = embedding[['UMAP_1', 'UMAP_2']])\n",
    "\n",
    "pa.parquet.write_table(\n",
    "    table=pa.Table.from_pandas(ROI_membership),\n",
    "    where=(\n",
    "        f\"{experiment_path}/intermediate_data/\"\n",
    "        f\"{embedding_tag}/\"\n",
    "        f\"fig3_ROI_membership.parquet\"))"
   ]
  },
  {
   "cell_type": "code",
   "execution_count": null,
   "metadata": {},
   "outputs": [],
   "source": [
    "%output size=300\n",
    "view_UMAP_select_condition(embedding, 'plate_id')"
   ]
  },
  {
   "cell_type": "code",
   "execution_count": null,
   "metadata": {},
   "outputs": [],
   "source": [
    "%output size=100\n",
    "view_UMAP_select_condition(embedding[embedding.dose_nM > 50], 'Compound')"
   ]
  },
  {
   "cell_type": "code",
   "execution_count": null,
   "metadata": {},
   "outputs": [],
   "source": [
    "compounds_of_interest = [\n",
    "    # Sigma compounds\n",
    "    'S1RA',\n",
    "    'Hydroxychloroquine',\n",
    "    'Amiodarone (hydrochloride)',\n",
    "    \n",
    "    # look unusual\n",
    "    'Bosutinib',\n",
    "    'Niclosamide',\n",
    "    'Nevirapine',\n",
    "    'Lomitapide',\n",
    "    'Nintedanib',\n",
    "    'MI-503',\n",
    "\n",
    "    # make worse\n",
    "    'Olemsartan Medoximil',\n",
    "    '5-Aminolevulinic Acid (hydrochloride)',\n",
    "    'Carbinoxamine (maleate)',\n",
    "    \n",
    "    # reduces roi 4 but not roi 1,2, or 3\n",
    "    'Zanamivir',\n",
    "    'Chloroxine',\n",
    "    'Vardenafil (hydrochloride hydrate)', \n",
    "]\n",
    "\n",
    "embedding_high = embedding[embedding.dose_nM > 250]\n",
    "\n",
    "for compound in compounds_of_interest:\n",
    "    if compound not in embedding.Compound.unique(): print(f\"Unrecognized compound: {compound}\")\n",
    "    save_embedding_plot(\n",
    "        embedding=embedding_high[embedding_high.Compound == compound],\n",
    "        output_fname=f\"../S25/product/figures/fig3/fig3a_{compound}_gt250_embedding.png\",\n",
    "        plot_width=250,\n",
    "        plot_height=250)"
   ]
  },
  {
   "cell_type": "code",
   "execution_count": null,
   "metadata": {},
   "outputs": [],
   "source": [
    "embedding_PC_NC = embedding[\n",
    "    (embedding.Compound == \"PC\") |\n",
    "    (embedding.Compound == \"NC\")]\n",
    "\n",
    "for plate_id in embedding.plate_id.unique():\n",
    "    save_embedding_plot(\n",
    "        embedding=embedding_PC_NC[embedding_PC_NC.plate_id == plate_id],\n",
    "        output_fname=f\"../S25/product/figures/fig3/fig3a_PC_NC_plate_id_{plate_id}_embedding.png\",\n",
    "        plot_width=400,\n",
    "        plot_height=400)"
   ]
  },
  {
   "cell_type": "code",
   "execution_count": null,
   "metadata": {},
   "outputs": [],
   "source": [
    "def load_replica_embeddings():\n",
    "    meta_columns=[\n",
    "        'Image_Metadata_PlateID',\n",
    "        'Image_Metadata_WellID',\n",
    "        'Image_Metadata_FieldID',\n",
    "        'ImageNumber',\n",
    "        'plate_id',\n",
    "        'Compound',\n",
    "        'dose_nM',\n",
    "        'Cells_Number_Object_Number']\n",
    "\n",
    "    embeddings = []\n",
    "\n",
    "    for replica in range(1, 7):\n",
    "        if replica == 1:\n",
    "            replica_label = \"\"\n",
    "        else:\n",
    "            replica_label = f\"rep{replica}_\"\n",
    "            \n",
    "        embedding = load_single_embedding(\n",
    "            experiment_path=experiment_path,\n",
    "            embedding_tag=f\"top_hits_plate_scaled_200522a_{replica_label}umap2_2M_15_0.0\",\n",
    "            plate_id=f\"top_hits_plate_scaled_200522a\",\n",
    "            cluster_embedding_tag=False,\n",
    "            meta_columns=meta_columns)\n",
    "        embedding.insert(len(embedding.columns), \"replica\", replica)\n",
    "        embeddings.append(embedding)\n",
    "\n",
    "    embedding = pd.concat(embeddings)\n",
    "    return embedding\n",
    "\n",
    "embedding_replicas = load_replica_embeddings()"
   ]
  },
  {
   "cell_type": "code",
   "execution_count": null,
   "metadata": {},
   "outputs": [],
   "source": [
    "for replica in embedding_replicas.replica.unique():\n",
    "    save_embedding_plot(\n",
    "        embedding=embedding_replicas[embedding_replicas.replica == replica],\n",
    "        output_fname=f\"../S25/product/figures/fig3/fig3a_replica_{replica}_embedding.png\",\n",
    "        plot_width=400,\n",
    "        plot_height=400)"
   ]
  },
  {
   "cell_type": "code",
   "execution_count": null,
   "metadata": {},
   "outputs": [],
   "source": [
    "def load_num_neighbors_embeddings():\n",
    "    meta_columns=[\n",
    "        'Image_Metadata_PlateID',\n",
    "        'Image_Metadata_WellID',\n",
    "        'Image_Metadata_FieldID',\n",
    "        'ImageNumber',\n",
    "        'plate_id',\n",
    "        'Compound',\n",
    "        'dose_nM',\n",
    "        'Cells_Number_Object_Number']\n",
    "\n",
    "    embeddings = []\n",
    "\n",
    "    for num_neighbors in [5, 10, 15]:\n",
    "        embedding = load_single_embedding(\n",
    "            experiment_path=experiment_path,\n",
    "            embedding_tag=f\"top_hits_plate_scaled_200522a_umap2_2M_{num_neighbors}_0.0\",\n",
    "            plate_id=f\"top_hits_plate_scaled_200522a\",\n",
    "            cluster_embedding_tag=False,\n",
    "            meta_columns=meta_columns)\n",
    "        embedding.insert(len(embedding.columns), \"num_neighbors\", num_neighbors)\n",
    "        embeddings.append(embedding)\n",
    "\n",
    "    embedding = pd.concat(embeddings)\n",
    "    return embedding\n",
    "\n",
    "embedding_num_neighbors = load_num_neighbors_embeddings()"
   ]
  },
  {
   "cell_type": "code",
   "execution_count": null,
   "metadata": {},
   "outputs": [],
   "source": [
    "for num_neighbors in embedding_num_neighbors.num_neighbors.unique():\n",
    "    save_embedding_plot(\n",
    "        embedding=embedding_num_neighbors[embedding_num_neighbors.num_neighbors == num_neighbors],\n",
    "        output_fname=f\"../S25/product/figures/fig3/fig3a_num_neighbors_{num_neighbors}_embedding.png\",\n",
    "        plot_width=400,\n",
    "        plot_height=400)"
   ]
  }
 ],
 "metadata": {
  "kernelspec": {
   "display_name": "Python 3",
   "language": "python",
   "name": "python3"
  },
  "language_info": {
   "codemirror_mode": {
    "name": "ipython",
    "version": 3
   },
   "file_extension": ".py",
   "mimetype": "text/x-python",
   "name": "python",
   "nbconvert_exporter": "python",
   "pygments_lexer": "ipython3",
   "version": "3.8.2"
  }
 },
 "nbformat": 4,
 "nbformat_minor": 4
}
